{
  "nbformat": 4,
  "nbformat_minor": 0,
  "metadata": {
    "colab": {
      "name": "Dataset_Too_big_op_at_colab.ipynb",
      "provenance": [],
      "authorship_tag": "ABX9TyMjSDYjDbzvXApS0keHkgui",
      "include_colab_link": true
    },
    "kernelspec": {
      "name": "python3",
      "display_name": "Python 3"
    },
    "language_info": {
      "name": "python"
    },
    "accelerator": "GPU",
    "widgets": {
      "application/vnd.jupyter.widget-state+json": {
        "c70ca4bb7326490f808bd936291dbef0": {
          "model_module": "@jupyter-widgets/controls",
          "model_name": "HBoxModel",
          "state": {
            "_view_name": "HBoxView",
            "_dom_classes": [],
            "_model_name": "HBoxModel",
            "_view_module": "@jupyter-widgets/controls",
            "_model_module_version": "1.5.0",
            "_view_count": null,
            "_view_module_version": "1.5.0",
            "box_style": "",
            "layout": "IPY_MODEL_20592dafb93241f59f61f2112a3f0177",
            "_model_module": "@jupyter-widgets/controls",
            "children": [
              "IPY_MODEL_bac26c9651474dab92dfbf30e0b20669",
              "IPY_MODEL_624131e385b44b009333431bf1dad347"
            ]
          }
        },
        "20592dafb93241f59f61f2112a3f0177": {
          "model_module": "@jupyter-widgets/base",
          "model_name": "LayoutModel",
          "state": {
            "_view_name": "LayoutView",
            "grid_template_rows": null,
            "right": null,
            "justify_content": null,
            "_view_module": "@jupyter-widgets/base",
            "overflow": null,
            "_model_module_version": "1.2.0",
            "_view_count": null,
            "flex_flow": null,
            "width": null,
            "min_width": null,
            "border": null,
            "align_items": null,
            "bottom": null,
            "_model_module": "@jupyter-widgets/base",
            "top": null,
            "grid_column": null,
            "overflow_y": null,
            "overflow_x": null,
            "grid_auto_flow": null,
            "grid_area": null,
            "grid_template_columns": null,
            "flex": null,
            "_model_name": "LayoutModel",
            "justify_items": null,
            "grid_row": null,
            "max_height": null,
            "align_content": null,
            "visibility": null,
            "align_self": null,
            "height": null,
            "min_height": null,
            "padding": null,
            "grid_auto_rows": null,
            "grid_gap": null,
            "max_width": null,
            "order": null,
            "_view_module_version": "1.2.0",
            "grid_template_areas": null,
            "object_position": null,
            "object_fit": null,
            "grid_auto_columns": null,
            "margin": null,
            "display": null,
            "left": null
          }
        },
        "bac26c9651474dab92dfbf30e0b20669": {
          "model_module": "@jupyter-widgets/controls",
          "model_name": "FloatProgressModel",
          "state": {
            "_view_name": "ProgressView",
            "style": "IPY_MODEL_382c970f4bb340fbad5cdb7f211b11d1",
            "_dom_classes": [],
            "description": "Dl Completed...: 100%",
            "_model_name": "FloatProgressModel",
            "bar_style": "success",
            "max": 5,
            "_view_module": "@jupyter-widgets/controls",
            "_model_module_version": "1.5.0",
            "value": 5,
            "_view_count": null,
            "_view_module_version": "1.5.0",
            "orientation": "horizontal",
            "min": 0,
            "description_tooltip": null,
            "_model_module": "@jupyter-widgets/controls",
            "layout": "IPY_MODEL_80b5ba4cb69c42ab9d8393a2bc066ab0"
          }
        },
        "624131e385b44b009333431bf1dad347": {
          "model_module": "@jupyter-widgets/controls",
          "model_name": "HTMLModel",
          "state": {
            "_view_name": "HTMLView",
            "style": "IPY_MODEL_e157d964337041a2a26a138fe236336b",
            "_dom_classes": [],
            "description": "",
            "_model_name": "HTMLModel",
            "placeholder": "​",
            "_view_module": "@jupyter-widgets/controls",
            "_model_module_version": "1.5.0",
            "value": " 5/5 [00:11&lt;00:00,  2.33s/ file]",
            "_view_count": null,
            "_view_module_version": "1.5.0",
            "description_tooltip": null,
            "_model_module": "@jupyter-widgets/controls",
            "layout": "IPY_MODEL_87b9fff276c24b368665474f29de699a"
          }
        },
        "382c970f4bb340fbad5cdb7f211b11d1": {
          "model_module": "@jupyter-widgets/controls",
          "model_name": "ProgressStyleModel",
          "state": {
            "_view_name": "StyleView",
            "_model_name": "ProgressStyleModel",
            "description_width": "initial",
            "_view_module": "@jupyter-widgets/base",
            "_model_module_version": "1.5.0",
            "_view_count": null,
            "_view_module_version": "1.2.0",
            "bar_color": null,
            "_model_module": "@jupyter-widgets/controls"
          }
        },
        "80b5ba4cb69c42ab9d8393a2bc066ab0": {
          "model_module": "@jupyter-widgets/base",
          "model_name": "LayoutModel",
          "state": {
            "_view_name": "LayoutView",
            "grid_template_rows": null,
            "right": null,
            "justify_content": null,
            "_view_module": "@jupyter-widgets/base",
            "overflow": null,
            "_model_module_version": "1.2.0",
            "_view_count": null,
            "flex_flow": null,
            "width": null,
            "min_width": null,
            "border": null,
            "align_items": null,
            "bottom": null,
            "_model_module": "@jupyter-widgets/base",
            "top": null,
            "grid_column": null,
            "overflow_y": null,
            "overflow_x": null,
            "grid_auto_flow": null,
            "grid_area": null,
            "grid_template_columns": null,
            "flex": null,
            "_model_name": "LayoutModel",
            "justify_items": null,
            "grid_row": null,
            "max_height": null,
            "align_content": null,
            "visibility": null,
            "align_self": null,
            "height": null,
            "min_height": null,
            "padding": null,
            "grid_auto_rows": null,
            "grid_gap": null,
            "max_width": null,
            "order": null,
            "_view_module_version": "1.2.0",
            "grid_template_areas": null,
            "object_position": null,
            "object_fit": null,
            "grid_auto_columns": null,
            "margin": null,
            "display": null,
            "left": null
          }
        },
        "e157d964337041a2a26a138fe236336b": {
          "model_module": "@jupyter-widgets/controls",
          "model_name": "DescriptionStyleModel",
          "state": {
            "_view_name": "StyleView",
            "_model_name": "DescriptionStyleModel",
            "description_width": "",
            "_view_module": "@jupyter-widgets/base",
            "_model_module_version": "1.5.0",
            "_view_count": null,
            "_view_module_version": "1.2.0",
            "_model_module": "@jupyter-widgets/controls"
          }
        },
        "87b9fff276c24b368665474f29de699a": {
          "model_module": "@jupyter-widgets/base",
          "model_name": "LayoutModel",
          "state": {
            "_view_name": "LayoutView",
            "grid_template_rows": null,
            "right": null,
            "justify_content": null,
            "_view_module": "@jupyter-widgets/base",
            "overflow": null,
            "_model_module_version": "1.2.0",
            "_view_count": null,
            "flex_flow": null,
            "width": null,
            "min_width": null,
            "border": null,
            "align_items": null,
            "bottom": null,
            "_model_module": "@jupyter-widgets/base",
            "top": null,
            "grid_column": null,
            "overflow_y": null,
            "overflow_x": null,
            "grid_auto_flow": null,
            "grid_area": null,
            "grid_template_columns": null,
            "flex": null,
            "_model_name": "LayoutModel",
            "justify_items": null,
            "grid_row": null,
            "max_height": null,
            "align_content": null,
            "visibility": null,
            "align_self": null,
            "height": null,
            "min_height": null,
            "padding": null,
            "grid_auto_rows": null,
            "grid_gap": null,
            "max_width": null,
            "order": null,
            "_view_module_version": "1.2.0",
            "grid_template_areas": null,
            "object_position": null,
            "object_fit": null,
            "grid_auto_columns": null,
            "margin": null,
            "display": null,
            "left": null
          }
        }
      }
    }
  },
  "cells": [
    {
      "cell_type": "markdown",
      "metadata": {
        "id": "view-in-github",
        "colab_type": "text"
      },
      "source": [
        "<a href=\"https://colab.research.google.com/github/Barleysack/tensor101/blob/Handsonml2_7/Dataset_Too_big_op_at_colab.ipynb\" target=\"_parent\"><img src=\"https://colab.research.google.com/assets/colab-badge.svg\" alt=\"Open In Colab\"/></a>"
      ]
    },
    {
      "cell_type": "code",
      "metadata": {
        "colab": {
          "base_uri": "https://localhost:8080/",
          "height": 218,
          "referenced_widgets": [
            "c70ca4bb7326490f808bd936291dbef0",
            "20592dafb93241f59f61f2112a3f0177",
            "bac26c9651474dab92dfbf30e0b20669",
            "624131e385b44b009333431bf1dad347",
            "382c970f4bb340fbad5cdb7f211b11d1",
            "80b5ba4cb69c42ab9d8393a2bc066ab0",
            "e157d964337041a2a26a138fe236336b",
            "87b9fff276c24b368665474f29de699a"
          ]
        },
        "id": "U-Ap_IrvB07V",
        "outputId": "a452a11c-7a3e-4328-cc89-6a464bf6c3e9"
      },
      "source": [
        "import tensorflow_datasets as tfds\n",
        "import tensorflow as tf \n",
        "from tensorflow import keras\n",
        "from sklearn.datasets import load_sample_image\n",
        "import numpy as np\n",
        "from functools import partial\n",
        "#데이터셋이 생각보다 용량이 커서 코랩으로 구동 예정.\n",
        "\n",
        "dataset, info = tfds.load(\"tf_flowers\", as_supervised=True, with_info=True)\n",
        "dataset_size = info.splits[\"train\"].num_examples #데이터셋의 데이터 갯수\n",
        "class_names = info.features[\"label\"].names #클래스 레이블(꽃 이름)\n",
        "n_classes = info.features[\"label\"].num_classes #클래스 갯수\n",
        "\n",
        "test_set_raw, valid_set_raw, train_set_raw = tfds.load(\n",
        "    \"tf_flowers\",\n",
        "    split=[\"train[:10%]\", \"train[10%:25%]\", \"train[25%:]\"],\n",
        "    as_supervised=True) #스플릿 API가 책 출판 당시보다 발전. 저렇게만 쓰면 RAW SET은 완성.\n",
        "\n",
        "\n",
        "\n",
        "\n",
        "def preprocess(image, label):\n",
        "    resized_image = tf.image.resize(image, [224, 224])\n",
        "    final_image = keras.applications.xception.preprocess_input(resized_image)\n",
        "    return final_image, label #리사이징, XCEPTION 모델의 전처리 함수 사용.\n",
        "\n",
        "\n",
        "batch_size = 32\n",
        "train_set = train_set_raw.shuffle(1000)\n",
        "train_set = train_set.map(preprocess).batch(batch_size).prefetch(1)\n",
        "valid_set = valid_set_raw.map(preprocess).batch(batch_size).prefetch(1)\n",
        "test_set = test_set_raw.map(preprocess).batch(batch_size).prefetch(1)"
      ],
      "execution_count": 1,
      "outputs": [
        {
          "output_type": "stream",
          "text": [
            "\u001b[1mDownloading and preparing dataset tf_flowers/3.0.1 (download: 218.21 MiB, generated: 221.83 MiB, total: 440.05 MiB) to /root/tensorflow_datasets/tf_flowers/3.0.1...\u001b[0m\n"
          ],
          "name": "stdout"
        },
        {
          "output_type": "stream",
          "text": [
            "WARNING:absl:Dataset tf_flowers is hosted on GCS. It will automatically be downloaded to your\n",
            "local data directory. If you'd instead prefer to read directly from our public\n",
            "GCS bucket (recommended if you're running on GCP), you can instead pass\n",
            "`try_gcs=True` to `tfds.load` or set `data_dir=gs://tfds-data/datasets`.\n",
            "\n"
          ],
          "name": "stderr"
        },
        {
          "output_type": "display_data",
          "data": {
            "application/vnd.jupyter.widget-view+json": {
              "model_id": "c70ca4bb7326490f808bd936291dbef0",
              "version_minor": 0,
              "version_major": 2
            },
            "text/plain": [
              "HBox(children=(FloatProgress(value=0.0, description='Dl Completed...', max=5.0, style=ProgressStyle(descriptio…"
            ]
          },
          "metadata": {
            "tags": []
          }
        },
        {
          "output_type": "stream",
          "text": [
            "\n",
            "\n",
            "\u001b[1mDataset tf_flowers downloaded and prepared to /root/tensorflow_datasets/tf_flowers/3.0.1. Subsequent calls will reuse this data.\u001b[0m\n"
          ],
          "name": "stdout"
        }
      ]
    },
    {
      "cell_type": "code",
      "metadata": {
        "colab": {
          "base_uri": "https://localhost:8080/"
        },
        "id": "VEcZro_uFbkk",
        "outputId": "7a12041c-f74a-4c88-ee0e-162f0d696888"
      },
      "source": [
        "base_model = keras.applications.xception.Xception(weights=\"imagenet\",\n",
        "                                                  include_top=False) #최상층에 해당하는 층들 제외. \n",
        "avg = keras.layers.GlobalAveragePooling2D()(base_model.output) #제외한 곳에 전역 평균 풀링 추가.\n",
        "output = keras.layers.Dense(n_classes, activation=\"softmax\")(avg)#클래스마다 유닛하나, 소프트맥스 덴스층 .\n",
        "model = keras.models.Model(inputs=base_model.input, outputs=output)# 모델 클래스 객체 선언."
      ],
      "execution_count": 2,
      "outputs": [
        {
          "output_type": "stream",
          "text": [
            "Downloading data from https://storage.googleapis.com/tensorflow/keras-applications/xception/xception_weights_tf_dim_ordering_tf_kernels_notop.h5\n",
            "83689472/83683744 [==============================] - 0s 0us/step\n"
          ],
          "name": "stdout"
        }
      ]
    },
    {
      "cell_type": "code",
      "metadata": {
        "id": "taqOLj1cG2N2"
      },
      "source": [
        "for layer in base_model.layers:\n",
        "  layer.trainable=False#가져온 초기 층들은 가중치 동결.\n"
      ],
      "execution_count": 3,
      "outputs": []
    },
    {
      "cell_type": "code",
      "metadata": {
        "colab": {
          "base_uri": "https://localhost:8080/"
        },
        "id": "rNyzxZcCJCAK",
        "outputId": "c7759720-b684-4a27-fb40-43136fda7f94"
      },
      "source": [
        "\n",
        "\n",
        "optimizer = keras.optimizers.SGD(lr=0.2, momentum=0.9, decay=0.01)\n",
        "model.compile(loss=\"sparse_categorical_crossentropy\", optimizer=optimizer,\n",
        "              metrics=[\"accuracy\"])\n",
        "history = model.fit(train_set,\n",
        "                    steps_per_epoch=int(0.75 * dataset_size / batch_size),\n",
        "                    validation_data=valid_set,\n",
        "                    validation_steps=int(0.15 * dataset_size / batch_size),\n",
        "                    epochs=5)\n",
        "#몇번의 반복 후, 검증 정확도가 더이상 변하지 않으면 최상위 층이 모두 훈련된 것.\n",
        "#이후 모든 층 동결 해제.\n",
        "#동결/동결 해제시 컴파일 필수.\n",
        "#가중치 손상 막기 위해 다음엔 학습률 小\n",
        "\n"
      ],
      "execution_count": 4,
      "outputs": [
        {
          "output_type": "stream",
          "text": [
            "Epoch 1/5\n",
            "86/86 [==============================] - 41s 103ms/step - loss: 1.3064 - accuracy: 0.7268 - val_loss: 1.1434 - val_accuracy: 0.8088\n",
            "Epoch 2/5\n",
            "86/86 [==============================] - 8s 90ms/step - loss: 0.3880 - accuracy: 0.9058 - val_loss: 0.8207 - val_accuracy: 0.8493\n",
            "Epoch 3/5\n",
            "86/86 [==============================] - 8s 90ms/step - loss: 0.2002 - accuracy: 0.9419 - val_loss: 0.6033 - val_accuracy: 0.8676\n",
            "Epoch 4/5\n",
            "86/86 [==============================] - 8s 90ms/step - loss: 0.0772 - accuracy: 0.9722 - val_loss: 0.6022 - val_accuracy: 0.8732\n",
            "Epoch 5/5\n",
            "86/86 [==============================] - 8s 90ms/step - loss: 0.0608 - accuracy: 0.9780 - val_loss: 0.6075 - val_accuracy: 0.8713\n"
          ],
          "name": "stdout"
        }
      ]
    },
    {
      "cell_type": "code",
      "metadata": {
        "colab": {
          "base_uri": "https://localhost:8080/"
        },
        "id": "wbfson4IJpJS",
        "outputId": "10637ad5-4c5e-4dfc-bd70-6058b027ae74"
      },
      "source": [
        "#for layer in base_model.layers:\n",
        "layer.trainable = True\n",
        "\n",
        "optimizer = keras.optimizers.SGD(learning_rate=0.01, momentum=0.9,\n",
        "                                 nesterov=True, decay=0.001)\n",
        "model.compile(loss=\"sparse_categorical_crossentropy\", optimizer=optimizer,\n",
        "              metrics=[\"accuracy\"])\n",
        "history = model.fit(train_set,\n",
        "                    steps_per_epoch=int(0.75 * dataset_size / batch_size),\n",
        "                    validation_data=valid_set,\n",
        "                    validation_steps=int(0.15 * dataset_size / batch_size),\n",
        "                    epochs=40)"
      ],
      "execution_count": 7,
      "outputs": [
        {
          "output_type": "stream",
          "text": [
            "Epoch 1/40\n",
            "86/86 [==============================] - 11s 98ms/step - loss: 0.0413 - accuracy: 0.9893 - val_loss: 0.5913 - val_accuracy: 0.8658\n",
            "Epoch 2/40\n",
            "86/86 [==============================] - 8s 90ms/step - loss: 0.0297 - accuracy: 0.9938 - val_loss: 0.5964 - val_accuracy: 0.8713\n",
            "Epoch 3/40\n",
            "86/86 [==============================] - 8s 90ms/step - loss: 0.0315 - accuracy: 0.9923 - val_loss: 0.5921 - val_accuracy: 0.8713\n",
            "Epoch 4/40\n",
            "86/86 [==============================] - 8s 90ms/step - loss: 0.0311 - accuracy: 0.9950 - val_loss: 0.5901 - val_accuracy: 0.8695\n",
            "Epoch 5/40\n",
            "86/86 [==============================] - 8s 90ms/step - loss: 0.0260 - accuracy: 0.9966 - val_loss: 0.5917 - val_accuracy: 0.8732\n",
            "Epoch 6/40\n",
            "86/86 [==============================] - 8s 90ms/step - loss: 0.0247 - accuracy: 0.9969 - val_loss: 0.5898 - val_accuracy: 0.8713\n",
            "Epoch 7/40\n",
            "86/86 [==============================] - 8s 90ms/step - loss: 0.0263 - accuracy: 0.9942 - val_loss: 0.5893 - val_accuracy: 0.8713\n",
            "Epoch 8/40\n",
            "86/86 [==============================] - 8s 90ms/step - loss: 0.0234 - accuracy: 0.9972 - val_loss: 0.5907 - val_accuracy: 0.8713\n",
            "Epoch 9/40\n",
            "86/86 [==============================] - 8s 89ms/step - loss: 0.0294 - accuracy: 0.9945 - val_loss: 0.5892 - val_accuracy: 0.8713\n",
            "Epoch 10/40\n",
            "86/86 [==============================] - 8s 90ms/step - loss: 0.0230 - accuracy: 0.9979 - val_loss: 0.5893 - val_accuracy: 0.8732\n",
            "Epoch 11/40\n",
            "86/86 [==============================] - 8s 90ms/step - loss: 0.0249 - accuracy: 0.9965 - val_loss: 0.5913 - val_accuracy: 0.8732\n",
            "Epoch 12/40\n",
            "86/86 [==============================] - 8s 90ms/step - loss: 0.0257 - accuracy: 0.9963 - val_loss: 0.5893 - val_accuracy: 0.8768\n",
            "Epoch 13/40\n",
            "86/86 [==============================] - 8s 90ms/step - loss: 0.0252 - accuracy: 0.9968 - val_loss: 0.5892 - val_accuracy: 0.8695\n",
            "Epoch 14/40\n",
            "86/86 [==============================] - 8s 90ms/step - loss: 0.0218 - accuracy: 0.9977 - val_loss: 0.5876 - val_accuracy: 0.8713\n",
            "Epoch 15/40\n",
            "86/86 [==============================] - 8s 90ms/step - loss: 0.0242 - accuracy: 0.9970 - val_loss: 0.5880 - val_accuracy: 0.8713\n",
            "Epoch 16/40\n",
            "86/86 [==============================] - 8s 90ms/step - loss: 0.0240 - accuracy: 0.9961 - val_loss: 0.5892 - val_accuracy: 0.8732\n",
            "Epoch 17/40\n",
            "86/86 [==============================] - 8s 89ms/step - loss: 0.0238 - accuracy: 0.9961 - val_loss: 0.5894 - val_accuracy: 0.8713\n",
            "Epoch 18/40\n",
            "86/86 [==============================] - 8s 90ms/step - loss: 0.0203 - accuracy: 0.9989 - val_loss: 0.5905 - val_accuracy: 0.8713\n",
            "Epoch 19/40\n",
            "86/86 [==============================] - 8s 90ms/step - loss: 0.0231 - accuracy: 0.9970 - val_loss: 0.5878 - val_accuracy: 0.8713\n",
            "Epoch 20/40\n",
            "86/86 [==============================] - 8s 90ms/step - loss: 0.0176 - accuracy: 0.9989 - val_loss: 0.5884 - val_accuracy: 0.8713\n",
            "Epoch 21/40\n",
            "86/86 [==============================] - 8s 89ms/step - loss: 0.0201 - accuracy: 0.9978 - val_loss: 0.5880 - val_accuracy: 0.8713\n",
            "Epoch 22/40\n",
            "86/86 [==============================] - 8s 90ms/step - loss: 0.0178 - accuracy: 0.9983 - val_loss: 0.5897 - val_accuracy: 0.8713\n",
            "Epoch 23/40\n",
            "86/86 [==============================] - 8s 90ms/step - loss: 0.0207 - accuracy: 0.9968 - val_loss: 0.5908 - val_accuracy: 0.8695\n",
            "Epoch 24/40\n",
            "86/86 [==============================] - 8s 90ms/step - loss: 0.0192 - accuracy: 0.9985 - val_loss: 0.5920 - val_accuracy: 0.8695\n",
            "Epoch 25/40\n",
            "86/86 [==============================] - 8s 89ms/step - loss: 0.0190 - accuracy: 0.9981 - val_loss: 0.5894 - val_accuracy: 0.8713\n",
            "Epoch 26/40\n",
            "86/86 [==============================] - 8s 89ms/step - loss: 0.0198 - accuracy: 0.9974 - val_loss: 0.5899 - val_accuracy: 0.8695\n",
            "Epoch 27/40\n",
            "86/86 [==============================] - 8s 89ms/step - loss: 0.0201 - accuracy: 0.9976 - val_loss: 0.5902 - val_accuracy: 0.8695\n",
            "Epoch 28/40\n",
            "86/86 [==============================] - 8s 90ms/step - loss: 0.0192 - accuracy: 0.9973 - val_loss: 0.5916 - val_accuracy: 0.8695\n",
            "Epoch 29/40\n",
            "86/86 [==============================] - 8s 89ms/step - loss: 0.0210 - accuracy: 0.9964 - val_loss: 0.5904 - val_accuracy: 0.8695\n",
            "Epoch 30/40\n",
            "86/86 [==============================] - 8s 89ms/step - loss: 0.0215 - accuracy: 0.9962 - val_loss: 0.5906 - val_accuracy: 0.8695\n",
            "Epoch 31/40\n",
            "86/86 [==============================] - 8s 89ms/step - loss: 0.0208 - accuracy: 0.9976 - val_loss: 0.5904 - val_accuracy: 0.8695\n",
            "Epoch 32/40\n",
            "86/86 [==============================] - 8s 90ms/step - loss: 0.0187 - accuracy: 0.9983 - val_loss: 0.5904 - val_accuracy: 0.8695\n",
            "Epoch 33/40\n",
            "86/86 [==============================] - 8s 90ms/step - loss: 0.0181 - accuracy: 0.9986 - val_loss: 0.5912 - val_accuracy: 0.8695\n",
            "Epoch 34/40\n",
            "86/86 [==============================] - 8s 89ms/step - loss: 0.0198 - accuracy: 0.9965 - val_loss: 0.5901 - val_accuracy: 0.8695\n",
            "Epoch 35/40\n",
            "86/86 [==============================] - 8s 90ms/step - loss: 0.0186 - accuracy: 0.9978 - val_loss: 0.5907 - val_accuracy: 0.8695\n",
            "Epoch 36/40\n",
            "86/86 [==============================] - 8s 89ms/step - loss: 0.0182 - accuracy: 0.9965 - val_loss: 0.5900 - val_accuracy: 0.8695\n",
            "Epoch 37/40\n",
            "86/86 [==============================] - 8s 90ms/step - loss: 0.0176 - accuracy: 0.9986 - val_loss: 0.5911 - val_accuracy: 0.8695\n",
            "Epoch 38/40\n",
            "86/86 [==============================] - 8s 90ms/step - loss: 0.0183 - accuracy: 0.9985 - val_loss: 0.5915 - val_accuracy: 0.8695\n",
            "Epoch 39/40\n",
            "86/86 [==============================] - 8s 90ms/step - loss: 0.0210 - accuracy: 0.9970 - val_loss: 0.5910 - val_accuracy: 0.8695\n",
            "Epoch 40/40\n",
            "86/86 [==============================] - 8s 89ms/step - loss: 0.0176 - accuracy: 0.9987 - val_loss: 0.5906 - val_accuracy: 0.8695\n"
          ],
          "name": "stdout"
        }
      ]
    },
    {
      "cell_type": "code",
      "metadata": {
        "id": "D_yuo7ORMGf9"
      },
      "source": [
        "#책처럼 95퍼센트의 정확도는 도달하지 못하였다. "
      ],
      "execution_count": null,
      "outputs": []
    }
  ]
}