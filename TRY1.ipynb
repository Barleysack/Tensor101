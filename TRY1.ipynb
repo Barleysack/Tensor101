{
  "nbformat": 4,
  "nbformat_minor": 0,
  "metadata": {
    "colab": {
      "name": "TRY1.ipynb",
      "provenance": [],
      "authorship_tag": "ABX9TyMKtmKdUF638HXFr601/EPi",
      "include_colab_link": true
    },
    "kernelspec": {
      "name": "python3",
      "display_name": "Python 3"
    },
    "language_info": {
      "name": "python"
    }
  },
  "cells": [
    {
      "cell_type": "markdown",
      "metadata": {
        "id": "view-in-github",
        "colab_type": "text"
      },
      "source": [
        "<a href=\"https://colab.research.google.com/github/Barleysack/tensor101/blob/master/TRY1.ipynb\" target=\"_parent\"><img src=\"https://colab.research.google.com/assets/colab-badge.svg\" alt=\"Open In Colab\"/></a>"
      ]
    },
    {
      "cell_type": "code",
      "metadata": {
        "id": "3y6M_sexnvsq"
      },
      "source": [
        "import tensorflow as tf\n",
        "import matplotlib.pyplot as plt\n",
        "from sklearn.datasets import make_regression\n",
        "import numpy as np\n"
      ],
      "execution_count": 77,
      "outputs": []
    },
    {
      "cell_type": "code",
      "metadata": {
        "colab": {
          "base_uri": "https://localhost:8080/"
        },
        "id": "aYeMdUjwrupl",
        "outputId": "0a5ddcc7-8fd4-42fa-beba-d18c12253c7d"
      },
      "source": [
        "X, y = make_regression(n_samples=100, n_features=1, bias=10.0, noise=10.0, random_state=2)\n",
        "\n",
        "print(type(X))\n",
        "print(type(y))\n",
        "\n",
        "print(X.shape)\n",
        "print(y.shape)\n",
        "\n",
        "#############################\n"
      ],
      "execution_count": 78,
      "outputs": [
        {
          "output_type": "stream",
          "text": [
            "<class 'numpy.ndarray'>\n",
            "<class 'numpy.ndarray'>\n",
            "(100, 1)\n",
            "(100,)\n"
          ],
          "name": "stdout"
        }
      ]
    },
    {
      "cell_type": "code",
      "metadata": {
        "colab": {
          "base_uri": "https://localhost:8080/",
          "height": 279
        },
        "id": "BXabHHEFz_fl",
        "outputId": "7b0a5c92-d1b0-4fc9-d90a-3ad976bfbe40"
      },
      "source": [
        "plt.scatter(X, y, label=\"data\")\n",
        "plt.xlabel(\"x\")\n",
        "plt.ylabel(\"y\")\n",
        "plt.legend()\n",
        "plt.show()"
      ],
      "execution_count": 79,
      "outputs": [
        {
          "output_type": "display_data",
          "data": {
            "image/png": "[encoded data removed]",
            "text/plain": [
              "<Figure size 432x288 with 1 Axes>"
            ]
          },
          "metadata": {
            "tags": [],
            "needs_background": "light"
          }
        }
      ]
    },
    {
      "cell_type": "code",
      "metadata": {
        "colab": {
          "base_uri": "https://localhost:8080/"
        },
        "id": "kulmjGeg0uMT",
        "outputId": "4999b44f-bece-4488-b5b0-a52b8f487df7"
      },
      "source": [
        "X_bias = np.insert(X, 0, 1, axis=1)\n",
        "print(X_bias.shape)"
      ],
      "execution_count": 80,
      "outputs": [
        {
          "output_type": "stream",
          "text": [
            "(100, 2)\n"
          ],
          "name": "stdout"
        }
      ]
    },
    {
      "cell_type": "code",
      "metadata": {
        "id": "Rb846c6U0-Sw"
      },
      "source": [
        "train_x = X_bias[:80]\n",
        "test_x = X_bias[80:]"
      ],
      "execution_count": 81,
      "outputs": []
    },
    {
      "cell_type": "code",
      "metadata": {
        "colab": {
          "base_uri": "https://localhost:8080/"
        },
        "id": "ln1yGxN61JcC",
        "outputId": "cb0b60e6-c343-4bab-8e57-310ce87696c4"
      },
      "source": [
        "train_y = y[:80]\n",
        "test_y = y[80:]\n",
        "print(X_bias.shape)\n"
      ],
      "execution_count": 82,
      "outputs": [
        {
          "output_type": "stream",
          "text": [
            "(100, 2)\n"
          ],
          "name": "stdout"
        }
      ]
    },
    {
      "cell_type": "code",
      "metadata": {
        "id": "uz0ZV3bz1nsN"
      },
      "source": [
        "class SLRA():\n",
        "    def __init__(self):\n",
        "        self.w = np.random.rand(2,1) * 0.001\n",
        "        \n",
        "    def train(self, train_x, train_y):\n",
        "        self.epochs = 100\n",
        "        self.learning_rate = 0.05\n",
        "        \n",
        "        loss_mem = []\n",
        "        \n",
        "        #train_y 차원변환\n",
        "        train_y = np.expand_dims(train_y, axis=1)\n",
        "        \n",
        "        for i in range(self.epochs):\n",
        "            hypothesis = np.matmul(train_x, self.w)\n",
        "            error = hypothesis - train_y\n",
        "            loss = np.mean(error * error) / 2\n",
        "            \n",
        "            loss_mem.append(loss)\n",
        "            \n",
        "            #공식적용 및 차원유지 그리고 T를 통한 형상유지\n",
        "            gradient = np.mean(error * train_x, axis=0, keepdims=True).T\n",
        "            \n",
        "            #GDA적용\n",
        "            self.w -= self.learning_rate * gradient\n",
        "            \n",
        "        return loss_mem\n",
        "            \n",
        "    def test(self, target_x):\n",
        "        res = np.matmul(target_x, self.w)\n",
        "        \n",
        "        return res\n",
        "    \n",
        "    def pred(self, test_x, test_y):\n",
        "        test_y = np.expand_dims(test_y, axis=1)\n",
        "        \n",
        "        cal = np.matmul(test_x, self.w)\n",
        "        error = cal - test_y\n",
        "        mse = np.mean(error * error)\n",
        "        rmse = np.sqrt(mse)\n",
        "        \n",
        "        return rmse"
      ],
      "execution_count": 83,
      "outputs": []
    },
    {
      "cell_type": "code",
      "metadata": {
        "id": "Gx9_wuv813iU"
      },
      "source": [
        "model = SLRA()\n",
        "loss_mem = model.train(train_x, train_y)\n",
        "\n",
        "x_epoch = list(range(len(loss_mem)))"
      ],
      "execution_count": 84,
      "outputs": []
    },
    {
      "cell_type": "code",
      "metadata": {
        "colab": {
          "base_uri": "https://localhost:8080/",
          "height": 295
        },
        "id": "HT1VQgmJ15JG",
        "outputId": "c5cd750c-4b5d-4cf5-abea-d8ef7f3d4492"
      },
      "source": [
        "\n",
        "plt.plot(x_epoch, loss_mem)\n",
        "plt.title('Loss plot')\n",
        "plt.xlabel('epochs')\n",
        "plt.ylabel('Loss status')\n",
        "\n",
        "plt.show()"
      ],
      "execution_count": 85,
      "outputs": [
        {
          "output_type": "display_data",
          "data": {
            "image/png": "[encoded data removed]",
            "text/plain": [
              "<Figure size 432x288 with 1 Axes>"
            ]
          },
          "metadata": {
            "tags": [],
            "needs_background": "light"
          }
        }
      ]
    },
    {
      "cell_type": "code",
      "metadata": {
        "colab": {
          "base_uri": "https://localhost:8080/",
          "height": 265
        },
        "id": "DVB1DB7c1-RT",
        "outputId": "f60502d3-d54e-432c-8ea6-a549053321f7"
      },
      "source": [
        "plt.scatter(train_x[:,1], train_y)\n",
        "plt.plot(train_x[:,1], model.test(train_x), '-r')\n",
        "plt.show()"
      ],
      "execution_count": 86,
      "outputs": [
        {
          "output_type": "display_data",
          "data": {
            "image/png": "[encoded data removed]",
            "text/plain": [
              "<Figure size 432x288 with 1 Axes>"
            ]
          },
          "metadata": {
            "tags": [],
            "needs_background": "light"
          }
        }
      ]
    },
    {
      "cell_type": "code",
      "metadata": {
        "colab": {
          "base_uri": "https://localhost:8080/"
        },
        "id": "5Wz_Czjn2EHP",
        "outputId": "d6cd7f14-1044-4b90-e45c-084706029e13"
      },
      "source": [
        "print(model.pred(test_x, test_y))\n"
      ],
      "execution_count": 87,
      "outputs": [
        {
          "output_type": "stream",
          "text": [
            "10.10962176121681\n"
          ],
          "name": "stdout"
        }
      ]
    }
  ]
}